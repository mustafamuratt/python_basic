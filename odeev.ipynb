{
 "cells": [
  {
   "cell_type": "markdown",
   "metadata": {},
   "source": [
    "Using the all following items once each, set a correct boolean expression that returns write me. Use the print() function to display the result.\n",
    "\n",
    "\n",
    "0\n",
    "and\n",
    "not\n",
    "\"write me\""
   ]
  },
  {
   "cell_type": "code",
   "execution_count": 32,
   "metadata": {},
   "outputs": [
    {
     "name": "stdout",
     "output_type": "stream",
     "text": [
      "write me\n"
     ]
    }
   ],
   "source": [
    "if 1 and not 0:\n",
    "    print(\"write me\")\n"
   ]
  },
  {
   "cell_type": "code",
   "execution_count": 30,
   "metadata": {},
   "outputs": [],
   "source": []
  },
  {
   "cell_type": "code",
   "execution_count": 33,
   "metadata": {},
   "outputs": [
    {
     "data": {
      "text/plain": [
       "'write me'"
      ]
     },
     "execution_count": 33,
     "metadata": {},
     "output_type": "execute_result"
    }
   ],
   "source": [
    "not 0 and \"write m\""
   ]
  },
  {
   "cell_type": "code",
   "execution_count": 34,
   "metadata": {},
   "outputs": [
    {
     "data": {
      "text/plain": [
       "True"
      ]
     },
     "execution_count": 34,
     "metadata": {},
     "output_type": "execute_result"
    }
   ],
   "source": [
    "\"write me\" and not 0"
   ]
  },
  {
   "cell_type": "code",
   "execution_count": 36,
   "metadata": {},
   "outputs": [
    {
     "name": "stdout",
     "output_type": "stream",
     "text": [
      "write me\n"
     ]
    }
   ],
   "source": [
    "print(not 0 and \"write me\")"
   ]
  },
  {
   "cell_type": "code",
   "execution_count": 39,
   "metadata": {
    "scrolled": true
   },
   "outputs": [],
   "source": [
    "balance = 1000\n",
    "\n",
    "profit_rate = 0.07\n",
    "\n",
    "total_profit = 1000*(1+profit_rate)**7\n"
   ]
  },
  {
   "cell_type": "code",
   "execution_count": 40,
   "metadata": {
    "scrolled": true
   },
   "outputs": [
    {
     "data": {
      "text/plain": [
       "1605.7814764784307"
      ]
     },
     "execution_count": 40,
     "metadata": {},
     "output_type": "execute_result"
    }
   ],
   "source": [
    "total_profit"
   ]
  },
  {
   "cell_type": "code",
   "execution_count": null,
   "metadata": {},
   "outputs": [],
   "source": [
    "sales = {\"cost_value\": 31.87,\n",
    "         \"sell_value\": 45.00,\n",
    "         \"inventory\": 1000}\n",
    "profit_of_one = sales[\"sell_value\"]-sales[\"cost_value\"]\n",
    "total_profit = round(sales[\"inventory\"]*profit_of_one)\n",
    "total_profit"
   ]
  },
  {
   "cell_type": "code",
   "execution_count": 1,
   "metadata": {},
   "outputs": [
    {
     "data": {
      "text/plain": [
       "5"
      ]
     },
     "execution_count": 1,
     "metadata": {},
     "output_type": "execute_result"
    }
   ],
   "source": [
    "2+3"
   ]
  },
  {
   "cell_type": "markdown",
   "metadata": {},
   "source": [
    "## corona"
   ]
  },
  {
   "cell_type": "code",
   "execution_count": 14,
   "metadata": {},
   "outputs": [
    {
     "name": "stdout",
     "output_type": "stream",
     "text": [
      "Are you a cigarette addict older than 75 years old? please answer y or n Y\n",
      "do you have a severe chronic disease? answer y or n n\n",
      "is your immune system too weak? y or n n\n",
      "sıkıntı YOK\n"
     ]
    }
   ],
   "source": [
    "\n",
    "age = input (\"Are you a cigarette addict older than 75 years old? please answer y or n\" + \" \")\n",
    "chronic = input (\"do you have a severe chronic disease? answer y or n\" + \" \")\n",
    "immune = input (\"is your immune system too weak? y or n\" + \" \")\n",
    "if age == 'y' or chronic == 'y'or immune == 'y':\n",
    "    risk = False\n",
    "    print(\"sıkıntı VAR\")\n",
    "else:\n",
    "    risk = True\n",
    "    print(\"sıkıntı YOK\")\n"
   ]
  },
  {
   "cell_type": "markdown",
   "metadata": {},
   "source": [
    "## payroll"
   ]
  },
  {
   "cell_type": "code",
   "execution_count": 1,
   "metadata": {},
   "outputs": [
    {
     "name": "stdout",
     "output_type": "stream",
     "text": [
      "3.15 5.4 7.32\n"
     ]
    }
   ],
   "source": [
    "text = '{:.2f} {:.1f} {:.2f}'.format(3.1463, 5.367, 7.324324)\n",
    "print(text)"
   ]
  },
  {
   "cell_type": "code",
   "execution_count": 10,
   "metadata": {},
   "outputs": [
    {
     "data": {
      "text/plain": [
       "'2.000000'"
      ]
     },
     "execution_count": 10,
     "metadata": {},
     "output_type": "execute_result"
    }
   ],
   "source": [
    "x = format(2.0, '.6f')\n",
    "x"
   ]
  },
  {
   "cell_type": "code",
   "execution_count": 5,
   "metadata": {},
   "outputs": [
    {
     "name": "stdout",
     "output_type": "stream",
     "text": [
      "2.000000\n"
     ]
    }
   ],
   "source": [
    "print(f\"{2.0:.6f}\")"
   ]
  },
  {
   "cell_type": "code",
   "execution_count": 13,
   "metadata": {},
   "outputs": [
    {
     "name": "stdout",
     "output_type": "stream",
     "text": [
      "what s your payroll: 30\n",
      "Your payroll is: $30.00\n"
     ]
    }
   ],
   "source": [
    "output_payroll = input (\"what s your payroll: \")\n",
    "desired_output = float (output_payroll)\n",
    "print (f\"Your payroll is: ${desired_output:.2f}\")"
   ]
  },
  {
   "cell_type": "code",
   "execution_count": 20,
   "metadata": {},
   "outputs": [
    {
     "name": "stdout",
     "output_type": "stream",
     "text": [
      "what is the temperature as CELSIUS :10\n"
     ]
    },
    {
     "data": {
      "text/plain": [
       "str"
      ]
     },
     "execution_count": 20,
     "metadata": {},
     "output_type": "execute_result"
    }
   ],
   "source": [
    " x = input (\"what is the temperature as CELSIUS :\")\n",
    "\n",
    "type(x)"
   ]
  },
  {
   "cell_type": "code",
   "execution_count": 22,
   "metadata": {},
   "outputs": [
    {
     "name": "stdout",
     "output_type": "stream",
     "text": [
      "what is the temperature as CELSIUS :20\n",
      "the temp is 68.0 F \n"
     ]
    }
   ],
   "source": [
    "    a = input (\"what is the temperature as CELSIUS :\")\n",
    "    x = int (a)\n",
    "    x = x*1.8 + 32\n",
    "    print(f\"the temp is {x} F \")\n",
    "    "
   ]
  },
  {
   "cell_type": "code",
   "execution_count": null,
   "metadata": {},
   "outputs": [],
   "source": [
    "#import string\n",
    "#list = string.ascii_lowercase[:]"
   ]
  },
  {
   "cell_type": "markdown",
   "metadata": {},
   "source": [
    "# comfortable words"
   ]
  },
  {
   "cell_type": "code",
   "execution_count": 40,
   "metadata": {},
   "outputs": [
    {
     "name": "stdout",
     "output_type": "stream",
     "text": [
      "what is the word :faol\n",
      "faol is  a BOTH-Hand WORD\n"
     ]
    }
   ],
   "source": [
    "\n",
    "left_handed = (\"a\", \"q\", \"w\", \"e\", \"r\", \"t\", \"s\", \"d\", \"f\", \"g\", \"z\", \"x\", \"c\", \"v\", \"b\")\n",
    "\n",
    "right_handed = (\"p\", \"o\", \"ı\", \"u\", \"y\", \"h\", \"j\", \"k\", \"l\", \"ş\", \"i\", \"n\", \"m\", \"ö\", \"ç\")\n",
    "\n",
    "word = input (\"what is the word :\")\n",
    "set_word = set(word)\n",
    "\n",
    "left =  set_word.issubset(left_handed)\n",
    "right = set_word.issubset(right_handed)\n",
    "\n",
    "\n",
    "if left:\n",
    "    print(f\"{word} is a comfortable LEFT-Hand WORD\")\n",
    "    \n",
    "elif right:\n",
    "    print(f\"{word} is NOT a comfortable RIGHT-Hand WORD\")\n",
    "    \n",
    "else:  \n",
    "     print(f\"{word} is  a BOTH-Hand WORD\")\n",
    "\n",
    "\n",
    "\n",
    "\n"
   ]
  },
  {
   "cell_type": "code",
   "execution_count": null,
   "metadata": {},
   "outputs": [],
   "source": []
  },
  {
   "cell_type": "code",
   "execution_count": null,
   "metadata": {},
   "outputs": [],
   "source": []
  },
  {
   "cell_type": "markdown",
   "metadata": {},
   "source": [
    "## frequency of numbers\n"
   ]
  },
  {
   "cell_type": "code",
   "execution_count": 109,
   "metadata": {},
   "outputs": [
    {
     "name": "stdout",
     "output_type": "stream",
     "text": [
      "the most frequented number is 3 and it was 4 times repetead!\n"
     ]
    }
   ],
   "source": [
    "numbers = [1, 3, 7, 4, 3, 0, 3, 6, 3]\n",
    "\n",
    "length = len(numbers)\n",
    "\n",
    "frequency = {}\n",
    "\n",
    "for x in range (length):\n",
    "    frequency[numbers[x]]= numbers.count(numbers[x])\n",
    "    \n",
    "frequency_of_number = max(frequency.values ())\n",
    "\n",
    "for x in frequency.keys ():\n",
    "    if frequency[x] == frequency_of_number:\n",
    "        freq_num = x\n",
    "    \n",
    "print(f\"the most frequented number is {freq_num} and it was {frequency_of_number} times repetead!\")\n"
   ]
  },
  {
   "cell_type": "markdown",
   "metadata": {},
   "source": [
    "## leap year"
   ]
  },
  {
   "cell_type": "code",
   "execution_count": 3,
   "metadata": {},
   "outputs": [
    {
     "name": "stdout",
     "output_type": "stream",
     "text": [
      "Ask a year for leap:155\n",
      "155 is NOT a leap year!\n"
     ]
    }
   ],
   "source": [
    "y = input (\"Ask a year for leap:\")\n",
    "x = int(y)\n",
    "if x % 4 == 0:\n",
    "    if x % 100 == 0:\n",
    "        if x % 4000 != 0:\n",
    "            print (f\"{x} is a leap year!\")\n",
    "    else:\n",
    "        print (f\"{x} is a leap year!\")\n",
    "else:\n",
    "      print (f\"{x} is NOT a leap year!\")\n",
    "               "
   ]
  },
  {
   "cell_type": "code",
   "execution_count": 116,
   "metadata": {},
   "outputs": [
    {
     "data": {
      "text/plain": [
       "1"
      ]
     },
     "execution_count": 116,
     "metadata": {},
     "output_type": "execute_result"
    }
   ],
   "source": [
    "7 % 3"
   ]
  },
  {
   "cell_type": "code",
   "execution_count": 12,
   "metadata": {},
   "outputs": [],
   "source": [
    "def fonk ():\n",
    "    return type(fonk)    "
   ]
  },
  {
   "cell_type": "code",
   "execution_count": 13,
   "metadata": {},
   "outputs": [
    {
     "data": {
      "text/plain": [
       "function"
      ]
     },
     "execution_count": 13,
     "metadata": {},
     "output_type": "execute_result"
    }
   ],
   "source": [
    "fonk ()"
   ]
  },
  {
   "cell_type": "code",
   "execution_count": 14,
   "metadata": {},
   "outputs": [
    {
     "data": {
      "text/plain": [
       "function"
      ]
     },
     "execution_count": 14,
     "metadata": {},
     "output_type": "execute_result"
    }
   ],
   "source": [
    "type(fonk)"
   ]
  },
  {
   "cell_type": "code",
   "execution_count": null,
   "metadata": {},
   "outputs": [],
   "source": []
  },
  {
   "cell_type": "code",
   "execution_count": null,
   "metadata": {},
   "outputs": [],
   "source": []
  }
 ],
 "metadata": {
  "kernelspec": {
   "display_name": "Python 3",
   "language": "python",
   "name": "python3"
  },
  "language_info": {
   "codemirror_mode": {
    "name": "ipython",
    "version": 3
   },
   "file_extension": ".py",
   "mimetype": "text/x-python",
   "name": "python",
   "nbconvert_exporter": "python",
   "pygments_lexer": "ipython3",
   "version": "3.8.5"
  }
 },
 "nbformat": 4,
 "nbformat_minor": 4
}
