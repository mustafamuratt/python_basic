{
 "cells": [
  {
   "cell_type": "code",
   "execution_count": 35,
   "metadata": {},
   "outputs": [
    {
     "name": "stdout",
     "output_type": "stream",
     "text": [
      "[0, 1, 2, 3, 4, 5, 6, 7, 8, 9]\n",
      "[[1, 4], [1, 5], [1, 6], [2, 4], [2, 5], [2, 6], [3, 4], [3, 5], [3, 6]]\n",
      "[['a', 1], ['a', 2], ['a', 3], ['b', 1], ['b', 2], ['b', 3], ['c', 1], ['c', 2], ['c', 3]]\n",
      "[['a', 1], ['a', 2], ['a', 3], ['b', 1], ['b', 2], ['b', 3], ['c', 1], ['c', 2], ['c', 3]]\n",
      "[0, 5, 10, 15]\n"
     ]
    }
   ],
   "source": [
    "print ([x for x in range (10)])\n",
    "\n",
    "print([[x, y] for x in [1, 2, 3] for y in [4, 5, 6]])\n",
    "\n",
    "print([[x, y] for x in ['a', 'b', 'c'] for y in [1, 2, 3]])\n",
    "\n",
    "comb = [[x, y] for x in ['a', 'b', 'c'] for y in [1, 2, 3]]\n",
    "print (comb)\n",
    "\n",
    "print([x for x in range(20) if x%5==0])"
   ]
  },
  {
   "cell_type": "code",
   "execution_count": null,
   "metadata": {},
   "outputs": [],
   "source": [
    "x = int(input())\n",
    "y = int(input())\n",
    "z = int(input())\n",
    "n = int(input())\n",
    "    \n",
    "print([[i, j, k] for i in range(x+1) for j in range(y+1) for k in range(z+1) if i + j + k != n ])\n"
   ]
  },
  {
   "cell_type": "code",
   "execution_count": 10,
   "metadata": {},
   "outputs": [
    {
     "name": "stdout",
     "output_type": "stream",
     "text": [
      "40\n",
      "20\n",
      "20\n",
      "30\n"
     ]
    }
   ],
   "source": [
    "x, y, z, n = int(input()), int(input()), int(input()), int(input())"
   ]
  },
  {
   "cell_type": "code",
   "execution_count": 13,
   "metadata": {},
   "outputs": [
    {
     "name": "stdout",
     "output_type": "stream",
     "text": [
      "2\n",
      "3\n",
      "5\n",
      "6\n"
     ]
    }
   ],
   "source": [
    "x, y, z, n = (int(input()) for _ in range(4))"
   ]
  },
  {
   "cell_type": "code",
   "execution_count": 16,
   "metadata": {},
   "outputs": [
    {
     "name": "stdout",
     "output_type": "stream",
     "text": [
      "enter vals with spaces: 2 2 3 1\n"
     ]
    }
   ],
   "source": [
    "x,y,z,n=map(int,input('enter vals with spaces: ').split(\" \")) "
   ]
  },
  {
   "cell_type": "code",
   "execution_count": 1,
   "metadata": {},
   "outputs": [],
   "source": [
    "from numpy import array"
   ]
  },
  {
   "cell_type": "code",
   "execution_count": 2,
   "metadata": {},
   "outputs": [
    {
     "name": "stdout",
     "output_type": "stream",
     "text": [
      "[1.  2.  2.5 5.5]\n"
     ]
    }
   ],
   "source": [
    "sample_array = array([2, 4, 5, 11])\n",
    "\n",
    "changed_array = sample_array / 2\n",
    "\n",
    "print (changed_array)"
   ]
  },
  {
   "cell_type": "code",
   "execution_count": 3,
   "metadata": {},
   "outputs": [
    {
     "name": "stdout",
     "output_type": "stream",
     "text": [
      "3\n",
      "3 2 1\n",
      "2\n"
     ]
    }
   ],
   "source": [
    "n = int(input())\n",
    "y = map(int, input().split())\n",
    "\n",
    "x = list(set (y))\n",
    "  \n",
    "x.remove (max(x))\n",
    "print (max(x))\n"
   ]
  },
  {
   "cell_type": "code",
   "execution_count": 28,
   "metadata": {},
   "outputs": [
    {
     "name": "stdout",
     "output_type": "stream",
     "text": [
      "4\n",
      "mustafa\n",
      "30\n",
      "ahmet\n",
      "30\n",
      "meh\n",
      "20\n",
      "ali\n",
      "50\n",
      "ahmet\n",
      "mustafa\n"
     ]
    }
   ],
   "source": [
    "records_name = []\n",
    "records_score = []\n",
    "for _ in range(int(input())):\n",
    "    name = input()\n",
    "    score = float(input())\n",
    "    records_name.append(name)\n",
    "    records_score.append(score)\n",
    "\n",
    "min_score = min(records_score)\n",
    "index_list = []\n",
    "while min_score in records_score:\n",
    "    records_name.pop(records_score.index(min(records_score)))\n",
    "    records_score.remove(min_score)\n",
    "\n",
    "second_lowest_score = min(records_score)\n",
    "second_lowest_name = []\n",
    "while second_lowest_score in records_score:\n",
    "    \n",
    "    second_lowest_name.append (records_name[records_score.index(second_lowest_score)])\n",
    "    records_name.pop(records_score.index(min(records_score)))\n",
    "    records_score.remove(min(records_score))\n",
    "\n",
    "second_lowest_name.sort()\n",
    "for x in second_lowest_name:\n",
    "    print(x)"
   ]
  },
  {
   "cell_type": "code",
   "execution_count": 29,
   "metadata": {},
   "outputs": [
    {
     "name": "stdout",
     "output_type": "stream",
     "text": [
      "4\n",
      "mustafa\n",
      "30\n",
      "ahmet\n",
      "30\n",
      "ali\n",
      "20\n",
      "mehmt\n",
      "50\n",
      "ahmet\n",
      "mustafa\n"
     ]
    }
   ],
   "source": [
    "marksheet = []\n",
    "for _ in range(0,int(input())):\n",
    "    marksheet.append([input(), float(input())])\n",
    "\n",
    "second_highest = sorted(list(set([marks for name, marks in marksheet])))[1]\n",
    "print('\\n'.join([a for a,b in sorted(marksheet) if b == second_highest]))"
   ]
  },
  {
   "cell_type": "code",
   "execution_count": 30,
   "metadata": {},
   "outputs": [
    {
     "name": "stdout",
     "output_type": "stream",
     "text": [
      "4\n",
      "mustafa\n",
      "30\n",
      "ahmet\n",
      "30\n",
      "ali\n",
      "20\n",
      "mehmet\n",
      "50\n",
      "ahmet\n",
      "mustafa\n"
     ]
    }
   ],
   "source": [
    "n = int(input())\n",
    "marksheet = [[input(), float(input())] for _ in range(n)]\n",
    "second_highest = sorted(list(set([marks for name, marks in marksheet])))[1]\n",
    "print('\\n'.join([a for a,b in sorted(marksheet) if b == second_highest]))"
   ]
  },
  {
   "cell_type": "code",
   "execution_count": 5,
   "metadata": {},
   "outputs": [
    {
     "name": "stdout",
     "output_type": "stream",
     "text": [
      "[40, 56, 30]\n",
      "{40, 56, 30}\n",
      "[30, 40, 56]\n",
      "[['efd', 40], ['mrt', 56], ['mus1', 30], ['mus1', 30]]\n",
      "['a', 'f', 'x', 'y']\n",
      "a\n",
      "f\n",
      "x\n",
      "y\n",
      "a f x y\n",
      "a f x y\n"
     ]
    }
   ],
   "source": [
    "my_list = [['mus1', 30], ['efd', 40], ['mus1', 30], ['mrt', 56], ]\n",
    "\n",
    "print(list(set([marks for name, marks in my_list])))\n",
    "\n",
    "print(set([marks for name, marks in my_list]))\n",
    "\n",
    "print(sorted(list(set([marks for name, marks in my_list]))))\n",
    "\n",
    "print(sorted(my_list))\n",
    "\n",
    "\n",
    "my_list2 = ['a', 'f', 'x', 'y']\n",
    "print(sorted(my_list2))\n",
    "print('\\n'.join(sorted(my_list2)))\n",
    "print(' '.join(sorted(my_list2)))\n",
    "print (*my_list2)"
   ]
  },
  {
   "cell_type": "code",
   "execution_count": 4,
   "metadata": {},
   "outputs": [
    {
     "name": "stdout",
     "output_type": "stream",
     "text": [
      "15.00\n"
     ]
    }
   ],
   "source": [
    "newlist=[1,2,3,4,5]\n",
    "print (f'{sum (newlist):.2f}')"
   ]
  },
  {
   "cell_type": "code",
   "execution_count": 4,
   "metadata": {},
   "outputs": [
    {
     "name": "stdout",
     "output_type": "stream",
     "text": [
      "2\n",
      "Harsh 25 26.5 28\n",
      "Anurag 26 28 30\n",
      "Harsh\n",
      "{'Harsh': [25.0, 26.5, 28.0], 'Anurag': [26.0, 28.0, 30.0]}\n",
      "[25.0, 26.5, 28.0]\n",
      "2\n",
      "3\n",
      "26.50\n"
     ]
    }
   ],
   "source": [
    "#2 Harsh 25 26.5 28 Anurag 26 28 30 Harsh \n",
    "\n",
    "n = int(input())\n",
    "student_marks = {}\n",
    "for _ in range(n):\n",
    "    name, *line = input().split()\n",
    "    scores = list(map(float, line))\n",
    "    student_marks[name] = scores\n",
    "query_name = input()\n",
    "\n",
    "average = sum (student_marks[query_name])\n",
    "print (student_marks)\n",
    "print (student_marks[query_name])\n",
    "print (len(student_marks))\n",
    "print (len(student_marks[query_name]))\n",
    "print (f'{average/len(student_marks[query_name]):.2f}') "
   ]
  },
  {
   "cell_type": "code",
   "execution_count": 13,
   "metadata": {},
   "outputs": [
    {
     "name": "stdout",
     "output_type": "stream",
     "text": [
      "555\n",
      "(3, 5)\n",
      "555553333\n",
      "[('5', <itertools._grouper object at 0x000002A5D63BBC70>), ('3', <itertools._grouper object at 0x000002A5D63BBAC0>)]\n"
     ]
    }
   ],
   "source": [
    "from itertools import groupby\n",
    "print(*[(len(list(c)), int(k)) for k, c in groupby(input())])\n"
   ]
  },
  {
   "cell_type": "code",
   "execution_count": 21,
   "metadata": {},
   "outputs": [
    {
     "name": "stdout",
     "output_type": "stream",
     "text": [
      "b\n"
     ]
    }
   ],
   "source": [
    "newlist = \"a b cc dd\"\n",
    "\n",
    "print(newlist.split()[1])"
   ]
  },
  {
   "cell_type": "code",
   "execution_count": 24,
   "metadata": {},
   "outputs": [
    {
     "ename": "NameError",
     "evalue": "name 'sa' is not defined",
     "output_type": "error",
     "traceback": [
      "\u001b[1;31m---------------------------------------------------------------------------\u001b[0m",
      "\u001b[1;31mNameError\u001b[0m                                 Traceback (most recent call last)",
      "\u001b[1;32m<ipython-input-24-fe309e255f69>\u001b[0m in \u001b[0;36m<module>\u001b[1;34m\u001b[0m\n\u001b[1;32m----> 1\u001b[1;33m \u001b[0mset1\u001b[0m\u001b[1;33m=\u001b[0m \u001b[1;33m{\u001b[0m\u001b[1;36m1\u001b[0m\u001b[1;33m,\u001b[0m\u001b[1;36m2\u001b[0m\u001b[1;33m,\u001b[0m\u001b[0msa\u001b[0m\u001b[1;33m}\u001b[0m\u001b[1;33m\u001b[0m\u001b[1;33m\u001b[0m\u001b[0m\n\u001b[0m",
      "\u001b[1;31mNameError\u001b[0m: name 'sa' is not defined"
     ]
    }
   ],
   "source": [
    "set1= {1,2,sa}"
   ]
  },
  {
   "cell_type": "code",
   "execution_count": 23,
   "metadata": {},
   "outputs": [
    {
     "data": {
      "text/plain": [
       "{2}"
      ]
     },
     "execution_count": 23,
     "metadata": {},
     "output_type": "execute_result"
    }
   ],
   "source": [
    "set2={2,4,5}\n",
    "set1 & set2"
   ]
  },
  {
   "cell_type": "markdown",
   "metadata": {},
   "source": [
    "## eval ()"
   ]
  },
  {
   "cell_type": "code",
   "execution_count": 5,
   "metadata": {},
   "outputs": [
    {
     "name": "stdout",
     "output_type": "stream",
     "text": [
      "2\n",
      "append 2\n",
      "print\n",
      "{'append': ['2'], 'print': []}\n",
      "[]\n"
     ]
    }
   ],
   "source": [
    "N = int (input())\n",
    "my_list = []  \n",
    "command_dict = {}\n",
    "for _ in range(N):\n",
    "    x = input()\n",
    "    command_dict [x.split ()[0]]= x.split ()[1:]\n",
    "\n",
    "print (command_dict)\n",
    "\n",
    "    if command_dict != \"print\":\n",
    "        command += \"(\"+ \", \".join (numbers) +\")\"   \n",
    "        eval(\"my_list.\"+command)\n",
    "    else:\n",
    "        print (my_list)"
   ]
  },
  {
   "cell_type": "code",
   "execution_count": null,
   "metadata": {},
   "outputs": [],
   "source": [
    "N = int (input())\n",
    "my_list = []  \n",
    "\n",
    "\n",
    "for _ in range(N):\n",
    "    x = input()\n",
    "    command = x.split () [0]\n",
    "    numbers = x .split () [1:]\n",
    "    if command != \"print\":\n",
    "        command += \"(\"+ \", \".join (numbers) +\")\"   \n",
    "        eval(\"my_list.\"+command)\n",
    "    else:\n",
    "        print (my_list)"
   ]
  },
  {
   "cell_type": "code",
   "execution_count": 28,
   "metadata": {},
   "outputs": [
    {
     "name": "stdout",
     "output_type": "stream",
     "text": [
      "ahmet(1, 4)\n"
     ]
    }
   ],
   "source": [
    "nums = ['1', '4']\n",
    "x = 'ahmet'\n",
    "#x += \"(\"+ \", \".type() +\")\" \n",
    "x += \"(\"+ \", \".join (nums)+\")\"\n",
    "print(x)"
   ]
  },
  {
   "cell_type": "code",
   "execution_count": 32,
   "metadata": {},
   "outputs": [
    {
     "name": "stdout",
     "output_type": "stream",
     "text": [
      "2\n",
      "1 2\n",
      "(1, 2)\n"
     ]
    }
   ],
   "source": [
    "n = int(input())\n",
    "integer_list = map(int, input().split())\n",
    "print(tuple(integer_list)) #x = tuple (integer_list)\n",
    "#hash (x)"
   ]
  },
  {
   "cell_type": "markdown",
   "metadata": {},
   "source": [
    "# swapcase"
   ]
  },
  {
   "cell_type": "code",
   "execution_count": 2,
   "metadata": {},
   "outputs": [
    {
     "name": "stdout",
     "output_type": "stream",
     "text": [
      "Musa\n",
      "None\n"
     ]
    }
   ],
   "source": [
    "def swap_case(s):\n",
    "    s = s.swapcase()\n",
    "    return s\n",
    "\n",
    "s = input()\n",
    "result = swap_case(s)\n",
    "print(result)\n"
   ]
  },
  {
   "cell_type": "code",
   "execution_count": 3,
   "metadata": {},
   "outputs": [
    {
     "name": "stdout",
     "output_type": "stream",
     "text": [
      "how r u\n",
      "how-r-u\n"
     ]
    }
   ],
   "source": [
    "def split_and_join(line):\n",
    "    line = line.split(\" \")\n",
    "    line = \"-\".join(line)\n",
    "    return line\n",
    "    # write your code here\n",
    "\n",
    "if __name__ == '__main__':\n",
    "    line = input()\n",
    "    result = split_and_join(line)\n",
    "    print(result)"
   ]
  },
  {
   "cell_type": "code",
   "execution_count": 6,
   "metadata": {},
   "outputs": [
    {
     "name": "stdout",
     "output_type": "stream",
     "text": [
      "ggg\n",
      "ii\n",
      "Hello ggg ii! You just delved into python.\n"
     ]
    }
   ],
   "source": [
    "def print_full_name(first, last):\n",
    "    name_surname = first + \" \" + last\n",
    "    print (f'Hello {name_surname}! You just delved into python.')\n",
    "    # Write your code here\n",
    "\n",
    "if __name__ == '__main__':\n",
    "    first_name = input()\n",
    "    last_name = input()\n",
    "    print_full_name(first_name, last_name)"
   ]
  },
  {
   "cell_type": "code",
   "execution_count": 7,
   "metadata": {},
   "outputs": [],
   "source": [
    "kkk= ['s', 'r']\n",
    "fff = str (kkk)"
   ]
  },
  {
   "cell_type": "code",
   "execution_count": 21,
   "metadata": {},
   "outputs": [
    {
     "name": "stdout",
     "output_type": "stream",
     "text": [
      "rxamplr\n",
      "example\n",
      "m\n"
     ]
    }
   ],
   "source": [
    "x = 'example'\n",
    "y = x.replace('e', 'r')\n",
    "print(y)\n",
    "print(x[3])"
   ]
  },
  {
   "cell_type": "code",
   "execution_count": 19,
   "metadata": {},
   "outputs": [
    {
     "name": "stdout",
     "output_type": "stream",
     "text": [
      "example\n",
      "3 r\n",
      "exarple\n"
     ]
    }
   ],
   "source": [
    "def mutate_string(string, position, character):\n",
    "   \n",
    "    new_s =  list (string)\n",
    "    new_s[position] = character\n",
    "    new_s = ''.join(new_s)\n",
    "    return new_s\n",
    "\n",
    "if __name__ == '__main__':\n",
    "    s = input()\n",
    "    i, c = input().split()\n",
    "    s_new = mutate_string(s, int(i), c)\n",
    "    print(s_new)"
   ]
  },
  {
   "cell_type": "code",
   "execution_count": 32,
   "metadata": {},
   "outputs": [
    {
     "name": "stdout",
     "output_type": "stream",
     "text": [
      "False\n"
     ]
    },
    {
     "data": {
      "text/plain": [
       "True"
      ]
     },
     "execution_count": 32,
     "metadata": {},
     "output_type": "execute_result"
    }
   ],
   "source": [
    "list1= [1,2,3,3]\n",
    "list2 =[1,2,3]\n",
    "print (bool (list1==list2))\n",
    "str1 = 'abutlab'\n",
    "str2 = 'but'\n",
    "bool (str1 [1:4]==str2)"
   ]
  },
  {
   "cell_type": "code",
   "execution_count": 29,
   "metadata": {},
   "outputs": [
    {
     "name": "stdout",
     "output_type": "stream",
     "text": [
      "exa\n"
     ]
    }
   ],
   "source": [
    "x = 'example'\n",
    "print(x[0:3])\n"
   ]
  },
  {
   "cell_type": "code",
   "execution_count": 44,
   "metadata": {},
   "outputs": [
    {
     "name": "stdout",
     "output_type": "stream",
     "text": [
      "ABCDCDC\n",
      "CDC\n",
      "2\n"
     ]
    }
   ],
   "source": [
    "def count_substring(string, sub_string):\n",
    "\n",
    "    counter = 0\n",
    "    iterator = 0\n",
    "    \n",
    "    for y in range (len(string)):\n",
    "        finish = len(sub_string) + iterator\n",
    "        if sub_string == string [y:finish]:\n",
    "            counter += 1\n",
    "        iterator += 1          \n",
    "    return counter\n",
    "\n",
    "if __name__ == '__main__':\n",
    "    string = input().strip()\n",
    "    sub_string = input().strip()\n",
    "    \n",
    "    count = count_substring(string, sub_string)\n",
    "    print(count)\n",
    "    #ABCDCDC ----  CDC"
   ]
  },
  {
   "cell_type": "markdown",
   "metadata": {},
   "source": [
    "## startswith ()"
   ]
  },
  {
   "cell_type": "code",
   "execution_count": null,
   "metadata": {},
   "outputs": [],
   "source": [
    "def count_substring(string, sub_string):\n",
    "    count = 0\n",
    "    for i in range(len(string)):\n",
    "        if string[i:].startswith(sub_string):\n",
    "            count += 1\n",
    "    return count\n",
    "\n",
    "if __name__ == '__main__':\n",
    "    string = input().strip()\n",
    "    sub_string = input().strip()\n",
    "    \n",
    "    count = count_substring(string, sub_string)\n",
    "    print(count)\n",
    "    #ABCDCDC ----  CDC"
   ]
  },
  {
   "cell_type": "markdown",
   "metadata": {},
   "source": [
    "## any (), all()"
   ]
  },
  {
   "cell_type": "code",
   "execution_count": 47,
   "metadata": {},
   "outputs": [
    {
     "name": "stdout",
     "output_type": "stream",
     "text": [
      "qA2\n",
      "True\n",
      "True\n",
      "True\n",
      "True\n",
      "True\n"
     ]
    }
   ],
   "source": [
    "str = input()\n",
    "print (any(c.isalnum()  for c in str))\n",
    "print (any(c.isalpha() for c in str))\n",
    "print (any(c.isdigit() for c in str))\n",
    "print (any(c.islower() for c in str))\n",
    "print (any(c.isupper() for c in str))"
   ]
  },
  {
   "cell_type": "code",
   "execution_count": 64,
   "metadata": {
    "scrolled": true
   },
   "outputs": [
    {
     "name": "stdout",
     "output_type": "stream",
     "text": [
      "False\n",
      "False\n"
     ]
    }
   ],
   "source": [
    "x = [1,2,3]\n",
    "print (any(c==6 for c in x))\n",
    "print (all(c<3 for c in x))"
   ]
  },
  {
   "cell_type": "code",
   "execution_count": 67,
   "metadata": {},
   "outputs": [
    {
     "name": "stdout",
     "output_type": "stream",
     "text": [
      "(5+0j)\n"
     ]
    }
   ],
   "source": [
    "x = complex(5)\n",
    "print(x\n",
    "    )"
   ]
  },
  {
   "cell_type": "code",
   "execution_count": 7,
   "metadata": {
    "scrolled": true
   },
   "outputs": [
    {
     "name": "stdout",
     "output_type": "stream",
     "text": [
      "HackerRank----------\n"
     ]
    }
   ],
   "source": [
    "print ('HackerRank'.ljust(20,'-'))"
   ]
  },
  {
   "cell_type": "code",
   "execution_count": 8,
   "metadata": {},
   "outputs": [
    {
     "name": "stdout",
     "output_type": "stream",
     "text": [
      "----------HackerRank\n"
     ]
    }
   ],
   "source": [
    "print ('HackerRank'.rjust(20,'-'))"
   ]
  },
  {
   "cell_type": "code",
   "execution_count": 9,
   "metadata": {},
   "outputs": [
    {
     "name": "stdout",
     "output_type": "stream",
     "text": [
      "-----HackerRank-----\n"
     ]
    }
   ],
   "source": [
    "print ('HackerRank'.center(20,'-'))"
   ]
  },
  {
   "cell_type": "code",
   "execution_count": 12,
   "metadata": {
    "scrolled": true
   },
   "outputs": [
    {
     "name": "stdout",
     "output_type": "stream",
     "text": [
      "5\n",
      "    H    \n",
      "   HHH   \n",
      "  HHHHH  \n",
      " HHHHHHH \n",
      "HHHHHHHHH\n",
      "  HHHHH               HHHHH             \n",
      "  HHHHH               HHHHH             \n",
      "  HHHHH               HHHHH             \n",
      "  HHHHH               HHHHH             \n",
      "  HHHHH               HHHHH             \n",
      "  HHHHH               HHHHH             \n",
      "  HHHHHHHHHHHHHHHHHHHHHHHHH   \n",
      "  HHHHHHHHHHHHHHHHHHHHHHHHH   \n",
      "  HHHHHHHHHHHHHHHHHHHHHHHHH   \n",
      "  HHHHH               HHHHH             \n",
      "  HHHHH               HHHHH             \n",
      "  HHHHH               HHHHH             \n",
      "  HHHHH               HHHHH             \n",
      "  HHHHH               HHHHH             \n",
      "  HHHHH               HHHHH             \n",
      "                    HHHHHHHHH \n",
      "                     HHHHHHH  \n",
      "                      HHHHH   \n",
      "                       HHH    \n",
      "                        H     \n"
     ]
    }
   ],
   "source": [
    "#rjust, ljust or center.\n",
    "\n",
    "\n",
    "thickness = int(input()) #This must be an odd number\n",
    "c = 'H'\n",
    "\n",
    "#Top Cone\n",
    "for i in range(thickness):\n",
    "    print((c*i).rjust(thickness-1)+c+(c*i).ljust(thickness-1))\n",
    "\n",
    "#Top Pillars\n",
    "for i in range(thickness+1):\n",
    "    print((c*thickness).center(thickness*2)+(c*thickness).center(thickness*6))\n",
    "\n",
    "#Middle Belt\n",
    "for i in range((thickness+1)//2):\n",
    "    print((c*thickness*5).center(thickness*6))    \n",
    "\n",
    "#Bottom Pillars\n",
    "for i in range(thickness+1):\n",
    "    print((c*thickness).center(thickness*2)+(c*thickness).center(thickness*6))    \n",
    "\n",
    "#Bottom Cone\n",
    "for i in range(thickness):\n",
    "    print(((c*(thickness-i-1)).rjust(thickness)+c+(c*(thickness-i-1)).ljust(thickness)).rjust(thickness*6))"
   ]
  },
  {
   "cell_type": "code",
   "execution_count": 13,
   "metadata": {},
   "outputs": [
    {
     "name": "stdout",
     "output_type": "stream",
     "text": [
      "5\n",
      "----H----\n",
      "---HHH---\n",
      "--HHHHH--\n",
      "-HHHHHHH-\n",
      "HHHHHHHHH\n",
      "--HHHHH---------------HHHHH-------------\n",
      "--HHHHH---------------HHHHH-------------\n",
      "--HHHHH---------------HHHHH-------------\n",
      "--HHHHH---------------HHHHH-------------\n",
      "--HHHHH---------------HHHHH-------------\n",
      "--HHHHH---------------HHHHH-------------\n",
      "--HHHHHHHHHHHHHHHHHHHHHHHHH---\n",
      "--HHHHHHHHHHHHHHHHHHHHHHHHH---\n",
      "--HHHHHHHHHHHHHHHHHHHHHHHHH---\n",
      "--HHHHH---------------HHHHH-------------\n",
      "--HHHHH---------------HHHHH-------------\n",
      "--HHHHH---------------HHHHH-------------\n",
      "--HHHHH---------------HHHHH-------------\n",
      "--HHHHH---------------HHHHH-------------\n",
      "--HHHHH---------------HHHHH-------------\n",
      "--------------------HHHHHHHHH-\n",
      "---------------------HHHHHHH--\n",
      "----------------------HHHHH---\n",
      "-----------------------HHH----\n",
      "------------------------H-----\n"
     ]
    }
   ],
   "source": [
    "thickness = int(input()) #This must be an odd number\n",
    "c = 'H'\n",
    "\n",
    "#Top Cone\n",
    "for i in range(thickness):\n",
    "    print((c*i).rjust(thickness-1,'-')+c+(c*i).ljust(thickness-1,'-'))\n",
    "\n",
    "#Top Pillars\n",
    "for i in range(thickness+1):\n",
    "    print((c*thickness).center(thickness*2,'-')+(c*thickness).center(thickness*6,'-'))\n",
    "\n",
    "#Middle Belt\n",
    "for i in range((thickness+1)//2):\n",
    "    print((c*thickness*5).center(thickness*6,'-'))    \n",
    "\n",
    "#Bottom Pillars\n",
    "for i in range(thickness+1):\n",
    "    print((c*thickness).center(thickness*2,'-')+(c*thickness).center(thickness*6,'-'))    \n",
    "\n",
    "#Bottom Cone\n",
    "for i in range(thickness):\n",
    "    print(((c*(thickness-i-1)).rjust(thickness,'-')+c+(c*(thickness-i-1)).ljust(thickness,'-')).rjust(thickness*6,'-'))"
   ]
  },
  {
   "cell_type": "code",
   "execution_count": 20,
   "metadata": {},
   "outputs": [
    {
     "name": "stdout",
     "output_type": "stream",
     "text": [
      "[1, 9, 25, 49, 81]\n"
     ]
    }
   ],
   "source": [
    "def square(x):\n",
    "    return x**2\n",
    "\n",
    "my_list=[1, 3, 5, 7, 9]\n",
    "\n",
    "list_of_result = list(map(square, my_list))\n",
    "print(list_of_result)\n"
   ]
  },
  {
   "cell_type": "code",
   "execution_count": 25,
   "metadata": {},
   "outputs": [
    {
     "name": "stdout",
     "output_type": "stream",
     "text": [
      "sepc\n"
     ]
    }
   ],
   "source": [
    "x = 'seal'\n",
    "y = 'epca'\n",
    "z = x[0:2]+y[1:3]\n",
    "print (z)"
   ]
  },
  {
   "cell_type": "code",
   "execution_count": 33,
   "metadata": {},
   "outputs": [
    {
     "name": "stdout",
     "output_type": "stream",
     "text": [
      "ABCDEFGHIJKLIMNOQRSTUVWXYZ\n",
      "4\n",
      "ABCD\n",
      "EFGH\n",
      "IJKL\n",
      "IMNO\n",
      "QRST\n",
      "UVWX\n",
      "YZ\n"
     ]
    }
   ],
   "source": [
    "#ABCDEFGHIJKLIMNOQRSTUVWXYZ  --- 4\n",
    "import textwrap\n",
    "\n",
    "def wrap(string, max_width):\n",
    "    nums_of_line = (len (string)//max_width) + 1\n",
    "    x = 0\n",
    "    for i in range (nums_of_line):\n",
    "        print(string[x:max_width+x])\n",
    "        x+=max_width\n",
    "    return\n",
    "\n",
    "if __name__ == '__main__':\n",
    "    string, max_width = input(), int(input())\n",
    "    result = wrap(string, max_width)\n",
    "    "
   ]
  },
  {
   "cell_type": "code",
   "execution_count": 37,
   "metadata": {},
   "outputs": [
    {
     "name": "stdout",
     "output_type": "stream",
     "text": [
      "ABCDEFGHIJKLIMNOQRSTUVWXYZ\n",
      "4\n",
      "ABCD\n",
      "EFGH\n",
      "IJKL\n",
      "IMNO\n",
      "QRST\n",
      "UVWX\n",
      "YZ\n",
      "\n"
     ]
    }
   ],
   "source": [
    "#ABCDEFGHIJKLIMNOQRSTUVWXYZ  --- 4\n",
    "import textwrap\n",
    "\n",
    "def wrap(string, max_width):\n",
    "    nums_of_line = (len (string)//max_width) + 1\n",
    "    x = 0\n",
    "    y = ''\n",
    "    for i in range (nums_of_line):\n",
    "        y = y + string[x:max_width+x]+ '\\n'\n",
    "        x+=max_width\n",
    "    return y\n",
    "\n",
    "if __name__ == '__main__':\n",
    "    string, max_width = input(), int(input())\n",
    "    result = wrap(string, max_width)\n",
    "    print(result)"
   ]
  },
  {
   "cell_type": "code",
   "execution_count": 9,
   "metadata": {},
   "outputs": [
    {
     "name": "stdout",
     "output_type": "stream",
     "text": [
      "11 33\n",
      "---------------.|.---------------\n",
      "------------.|..|..|.------------\n",
      "---------.|..|..|..|..|.---------\n",
      "------.|..|..|..|..|..|..|.------\n",
      "---.|..|..|..|..|..|..|..|..|.---\n",
      "-------------WELCOME-------------\n",
      "---.|..|..|..|..|..|..|..|..|.---\n",
      "------.|..|..|..|..|..|..|.------\n",
      "---------.|..|..|..|..|.---------\n",
      "------------.|..|..|.------------\n",
      "---------------.|.---------------\n"
     ]
    }
   ],
   "source": [
    "#Size: 7 x 21, 9 x 27\n",
    "raw, column = map(int, input().split())\n",
    "width = int((raw-1)/2)\n",
    "figure = '.|.'\n",
    "i = 1\n",
    "k = raw - 2\n",
    "for x in range (width):\n",
    "    print((figure*i).center (column, '-'))\n",
    "    i += 2\n",
    "print ('WELCOME'.center(column, '-'))\n",
    "for x in range (width):\n",
    "    print((figure*k).center (column, '-'))\n",
    "    k -= 2\n"
   ]
  },
  {
   "cell_type": "code",
   "execution_count": 1,
   "metadata": {},
   "outputs": [
    {
     "name": "stdout",
     "output_type": "stream",
     "text": [
      "20 8\n",
      "<class 'int'>\n",
      "60\n"
     ]
    }
   ],
   "source": [
    "\n",
    "raw, column = map(int, input().split())\n",
    "print (type(raw))\n",
    "x= raw *3\n",
    "print(x)"
   ]
  },
  {
   "cell_type": "code",
   "execution_count": 35,
   "metadata": {},
   "outputs": [
    {
     "data": {
      "text/plain": [
       "str"
      ]
     },
     "execution_count": 35,
     "metadata": {},
     "output_type": "execute_result"
    }
   ],
   "source": [
    "type(hex (17))"
   ]
  },
  {
   "cell_type": "code",
   "execution_count": 11,
   "metadata": {},
   "outputs": [
    {
     "data": {
      "text/plain": [
       "'0o21'"
      ]
     },
     "execution_count": 11,
     "metadata": {},
     "output_type": "execute_result"
    }
   ],
   "source": [
    "oct (17)"
   ]
  },
  {
   "cell_type": "code",
   "execution_count": 42,
   "metadata": {},
   "outputs": [
    {
     "data": {
      "text/plain": [
       "'0b1010'"
      ]
     },
     "execution_count": 42,
     "metadata": {},
     "output_type": "execute_result"
    }
   ],
   "source": [
    "bin (10)"
   ]
  },
  {
   "cell_type": "code",
   "execution_count": 51,
   "metadata": {},
   "outputs": [
    {
     "name": "stdout",
     "output_type": "stream",
     "text": [
      "0xa 0o21 0b10001\n"
     ]
    }
   ],
   "source": [
    "print(hex (10\n",
    "          )+' '+oct (17)+' '+bin (17))"
   ]
  },
  {
   "cell_type": "code",
   "execution_count": 61,
   "metadata": {},
   "outputs": [
    {
     "name": "stdout",
     "output_type": "stream",
     "text": [
      "11\n",
      "   1    1    1    1\n",
      "   2    2    2   10\n",
      "   3    3    3   11\n",
      "   4    4    4  100\n",
      "   5    5    5  101\n",
      "   6    6    6  110\n",
      "   7    7    7  111\n",
      "   8   10    8 1000\n",
      "   9   11    9 1001\n",
      "  10   12    A 1010\n",
      "  11   13    B 1011\n"
     ]
    }
   ],
   "source": [
    "# Decimal Octal Hexadecimal (capitalized) Binary\n",
    "def print_formatted(number):\n",
    "    w=len(bin(number)[2:])\n",
    "    for i in range (1, number+1):\n",
    "     \n",
    "        print (str(i).rjust(w, ' ')+' '+ \n",
    "               oct(i)[2:].rjust(w, ' ')+' '+ (hex(i).upper())[2:].rjust(w, ' ')+' '+ (bin(i))[2:].rjust(w, ' '))\n",
    "    \n",
    "\n",
    "if __name__ == '__main__':\n",
    "    n = int(input())\n",
    "    print_formatted(n)"
   ]
  },
  {
   "cell_type": "code",
   "execution_count": 115,
   "metadata": {},
   "outputs": [
    {
     "name": "stdout",
     "output_type": "stream",
     "text": [
      "abcdefghijklmnopqrstuvwxyz\n"
     ]
    }
   ],
   "source": [
    "import string\n",
    "my_list = string.ascii_lowercase\n",
    "print(my_list)"
   ]
  },
  {
   "cell_type": "code",
   "execution_count": 4,
   "metadata": {},
   "outputs": [
    {
     "name": "stdout",
     "output_type": "stream",
     "text": [
      "5\n",
      "--------e--------\n",
      "------e-d-e------\n",
      "----e-d-c-d-e----\n"
     ]
    }
   ],
   "source": [
    "import string\n",
    "my_list = string.ascii_lowercase\n",
    "\n",
    "def print_rangoli(size):\n",
    "    width = ((size - 1) * 4) + 1\n",
    "    loc = int ((width - 1) / 2)\n",
    "    empty_list = ['-' for x in range (width)]\n",
    "\n",
    "    \n",
    "    x = 0\n",
    "    empty_list[loc - x] = my_list[size - 1]\n",
    "    print(''.join(empty_list))\n",
    "    \n",
    "    empty_list[loc - x - 2] = my_list[size - 1]\n",
    "    empty_list[loc - x ] = my_list[size - 1 - 1]\n",
    "    empty_list[loc - x + 2] = my_list[size - 1]\n",
    "    print(''.join(empty_list))\n",
    "    \n",
    "    empty_list[loc - x - 2 - 2] = my_list[size - 1]\n",
    "    empty_list[loc - x - 2 ] = my_list[size - 1 - 1]\n",
    "    empty_list[loc - x ] = my_list[size - 1 - 1 - 1]\n",
    "    empty_list[loc - x + 2] = my_list[size - 1 - 1]\n",
    "    empty_list[loc - x + 2 + 2 ] = my_list[size - 1]\n",
    "    print(''.join(empty_list))\n",
    "    \n",
    "    \n",
    "    for i in range (...):\n",
    "        empty_list[loc - x] = my_list[size - 1 - i]\n",
    "    \n",
    "if __name__ == '__main__':\n",
    "    n = int(input())\n",
    "    print_rangoli(n)    \n",
    "    "
   ]
  },
  {
   "cell_type": "code",
   "execution_count": null,
   "metadata": {},
   "outputs": [],
   "source": []
  },
  {
   "cell_type": "code",
   "execution_count": 12,
   "metadata": {},
   "outputs": [
    {
     "name": "stdout",
     "output_type": "stream",
     "text": [
      "5\n",
      "zyxwvutsrqponmlkjihgfedcba\n"
     ]
    }
   ],
   "source": [
    "import string\n",
    "alpha = string.ascii_lowercase\n",
    "\n",
    "n = int(input())\n",
    "L = []\n",
    "#s = \"-\".join(alpha[1                   :n])\n",
    "\n",
    "print (alpha[::-1])"
   ]
  },
  {
   "cell_type": "code",
   "execution_count": null,
   "metadata": {},
   "outputs": [],
   "source": []
  },
  {
   "cell_type": "code",
   "execution_count": 13,
   "metadata": {},
   "outputs": [
    {
     "name": "stdout",
     "output_type": "stream",
     "text": [
      "5\n",
      "--------e--------\n",
      "------e-d-e------\n",
      "----e-d-c-d-e----\n",
      "--e-d-c-b-c-d-e--\n",
      "e-d-c-b-a-b-c-d-e\n",
      "--e-d-c-b-c-d-e--\n",
      "----e-d-c-d-e----\n",
      "------e-d-e------\n",
      "--------e--------\n",
      "['e-d-c-b-a-b-c-d-e', '--e-d-c-b-c-d-e--', '----e-d-c-d-e----', '------e-d-e------', '--------e--------']\n"
     ]
    }
   ],
   "source": [
    "import string\n",
    "alpha = string.ascii_lowercase\n",
    "\n",
    "n = int(input())\n",
    "L = []\n",
    "for i in range(n):\n",
    "    s = \"-\".join(alpha[i:n])\n",
    "    L.append((s[::-1]+s[1:]).center(4*n-3, \"-\"))\n",
    "print('\\n'.join(L[:0:-1]+L))\n",
    "print(L)"
   ]
  },
  {
   "cell_type": "code",
   "execution_count": 2,
   "metadata": {},
   "outputs": [
    {
     "name": "stdout",
     "output_type": "stream",
     "text": [
      "123 346 Wm   a Q\n",
      "123 346 Wm   A Q\n"
     ]
    }
   ],
   "source": [
    "def solve(s):\n",
    "    for x in s[:].split():\n",
    "        s = s.replace(x, x.capitalize())\n",
    "    print(s)\n",
    "\n",
    "s = input()    \n",
    "solve (s)\n"
   ]
  },
  {
   "cell_type": "code",
   "execution_count": null,
   "metadata": {},
   "outputs": [],
   "source": [
    "if __name__ == '__main__':\n",
    "    fptr = open(os.environ['OUTPUT_PATH'], 'w')\n",
    "\n",
    "    s = input()\n",
    "    \n",
    " \n",
    "\n",
    "    result = solve(s)\n",
    "\n",
    "    fptr.write(result + '\\n')\n",
    "\n",
    "    fptr.close()"
   ]
  },
  {
   "cell_type": "code",
   "execution_count": 7,
   "metadata": {},
   "outputs": [
    {
     "name": "stdout",
     "output_type": "stream",
     "text": [
      "['n', 's', 'a', 'd', ' ', ' ', 'l', 'a', 's', 'd', ' ', ' ', 's']\n"
     ]
    }
   ],
   "source": [
    "ll = 'nsad  lasd  s'\n",
    "\n",
    "print(list (ll))"
   ]
  },
  {
   "cell_type": "code",
   "execution_count": 7,
   "metadata": {},
   "outputs": [
    {
     "name": "stdout",
     "output_type": "stream",
     "text": [
      "mmxxxxxxx jncj\n"
     ]
    }
   ],
   "source": [
    "s1 = 'mmdoıı jncj'\n",
    "s2 = s1.replace('doıı', 'xxxxxxx' )\n",
    "print(s2\n",
    "     )"
   ]
  },
  {
   "cell_type": "code",
   "execution_count": 1,
   "metadata": {},
   "outputs": [
    {
     "name": "stdout",
     "output_type": "stream",
     "text": [
      "12\n",
      "12 x 1 = 12\n",
      "12 x 2 = 24\n",
      "12 x 3 = 36\n",
      "12 x 4 = 48\n",
      "12 x 5 = 60\n",
      "12 x 6 = 72\n",
      "12 x 7 = 84\n",
      "12 x 8 = 96\n",
      "12 x 9 = 108\n",
      "12 x 10 = 120\n"
     ]
    }
   ],
   "source": [
    "def multiple (n):\n",
    "    list_nums = [x for x in range(1,11)]\n",
    "    for i in range(10):\n",
    "        result = n * (i+1)\n",
    "        #value = \n",
    "        print(f'{n} x {list_nums[i]} = {result}')\n",
    "    pass\n",
    "\n",
    "if __name__ == '__main__':\n",
    "    n = int(input())\n",
    "    multiple(n)\n",
    "    "
   ]
  },
  {
   "cell_type": "code",
   "execution_count": 8,
   "metadata": {},
   "outputs": [
    {
     "name": "stdout",
     "output_type": "stream",
     "text": [
      "1 2\n",
      "3 4\n",
      "(1, 3) (1, 4) (2, 3) (2, 4)\n"
     ]
    }
   ],
   "source": [
    "#  1 2 / 3 4\n",
    "from itertools import product\n",
    "a = map(int, input().split())\n",
    "b = map(int, input().split())\n",
    "a = sorted(a)\n",
    "b = sorted(b)\n",
    "list_pro = list(product(a, b))\n",
    "print (*list_pro)"
   ]
  },
  {
   "cell_type": "code",
   "execution_count": 13,
   "metadata": {},
   "outputs": [
    {
     "name": "stdout",
     "output_type": "stream",
     "text": [
      "HACK 2\n",
      "AC\n",
      "AH\n",
      "AK\n",
      "CA\n",
      "CH\n",
      "CK\n",
      "HA\n",
      "HC\n",
      "HK\n",
      "KA\n",
      "KC\n",
      "KH\n"
     ]
    }
   ],
   "source": [
    "#HACK 2\n",
    "from itertools import permutations\n",
    "\n",
    "string, num = input().split()\n",
    "num = int (num)\n",
    "\n",
    "srtd_prmt_list = sorted(list(permutations(string, num)))\n",
    "\n",
    "for i in range (len (srtd_prmt_list)):\n",
    "    print (''.join(srtd_prmt_list[i]))"
   ]
  },
  {
   "cell_type": "code",
   "execution_count": 26,
   "metadata": {},
   "outputs": [
    {
     "name": "stdout",
     "output_type": "stream",
     "text": [
      "HACK 2\n",
      "A\n",
      "C\n",
      "H\n",
      "K\n",
      "AC\n",
      "AH\n",
      "AK\n",
      "CH\n",
      "CK\n",
      "HK\n"
     ]
    }
   ],
   "source": [
    "from itertools import combinations\n",
    "\n",
    "string, num = input().split()\n",
    "num = int (num)\n",
    "srtd_comb_list = []\n",
    "\n",
    "for i in range(num):\n",
    "    srtd_comb_list.append(list(combinations(sorted(string), i+1)))\n",
    "\n",
    "for i in range(num):\n",
    "    for k in range (len (srtd_comb_list[i])):\n",
    "        print (''.join(srtd_comb_list[i][k]))\n"
   ]
  },
  {
   "cell_type": "code",
   "execution_count": 25,
   "metadata": {},
   "outputs": [
    {
     "name": "stdout",
     "output_type": "stream",
     "text": [
      "HACK 2\n",
      "A\n",
      "C\n",
      "H\n",
      "K\n",
      "AC\n",
      "AH\n",
      "AK\n",
      "CH\n",
      "CK\n",
      "HK\n"
     ]
    }
   ],
   "source": [
    "from itertools import combinations\n",
    "\n",
    "s , n  = input().split()\n",
    "\n",
    "for i in range(1, int(n)+1):\n",
    "    for j in combinations(sorted(s), i):\n",
    "        print (''.join(j))"
   ]
  },
  {
   "attachments": {
    "image-2.png": {
     "image/png": "[encoded data removed]"
    }
   },
   "cell_type": "markdown",
   "metadata": {},
   "source": [
    "\n",
    "# minion_game\n",
    "![image-2.png](attachment:image-2.png)\n"
   ]
  },
  {
   "cell_type": "code",
   "execution_count": 6,
   "metadata": {},
   "outputs": [
    {
     "name": "stdout",
     "output_type": "stream",
     "text": [
      "BANANA\n",
      "Stuart 12\n"
     ]
    }
   ],
   "source": [
    "import string\n",
    "\n",
    "alpha = string.ascii_uppercase\n",
    "\n",
    "def minion_game(string):\n",
    "    \n",
    "    string = string.upper()\n",
    "    score_stuart = 0\n",
    "    score_kevin = 0\n",
    " \n",
    "    vowels = 'AEOUI'\n",
    "    \n",
    "    list_words = []\n",
    "    \n",
    "    for i in range(len(string)):\n",
    "        for k in range(1, (len(string)+1)):\n",
    "            if i < k :\n",
    "                list_words.append(string[i:k])\n",
    "    \n",
    "    for i in range (len(list_words)):\n",
    "        if any(x == list_words[i][0] for x in alpha):\n",
    "            if any(x == list_words[i][0] for x in vowels):\n",
    "                score_kevin += 1\n",
    "            else:\n",
    "                score_stuart += 1\n",
    "       \n",
    "    if score_stuart > score_kevin:\n",
    "        print(f'Stuart {score_stuart}')\n",
    "    elif score_stuart < score_kevin:\n",
    "        print (f'Kevin {score_kevin}')\n",
    "    else:\n",
    "        print('Draw')\n",
    "\n",
    "if __name__ == '__main__':\n",
    "    s = input()\n",
    "    minion_game(s)"
   ]
  },
  {
   "cell_type": "code",
   "execution_count": 5,
   "metadata": {},
   "outputs": [
    {
     "name": "stdout",
     "output_type": "stream",
     "text": [
      "BANANA\n",
      "Stuart 12\n"
     ]
    }
   ],
   "source": [
    "def minion_game(s):\n",
    "    vowels = 'AEIOU'\n",
    "\n",
    "    kevsc = 0\n",
    "    stusc = 0\n",
    "    for i in range(len(s)):\n",
    "        if s[i] in vowels:\n",
    "            kevsc += (len(s)-i)\n",
    "        else:\n",
    "            stusc += (len(s)-i)\n",
    "\n",
    "    if kevsc > stusc:\n",
    "        print (\"Kevin\", kevsc)\n",
    "    elif kevsc < stusc:\n",
    "        print (\"Stuart\", stusc)\n",
    "    else:\n",
    "        print (\"Draw\")\n",
    "\n",
    "if __name__ == '__main__':\n",
    "    s = input()\n",
    "    minion_game(s)"
   ]
  },
  {
   "cell_type": "markdown",
   "metadata": {},
   "source": [
    "# counter\n",
    ">>> from collections import Counter\n",
    ">>> \n",
    ">>> myList = [1,1,2,3,4,5,3,2,3,4,2,1,2,3]\n",
    ">>> print Counter(myList)\n",
    ">>>Counter({2: 4, 3: 4, 1: 3, 4: 2, 5: 1})\n",
    ">>>\n",
    ">>> print Counter(myList).items()\n",
    ">>>[(1, 3), (2, 4), (3, 4), (4, 2), (5, 1)]\n",
    ">>> \n",
    ">>> print Counter(myList).keys()\n",
    ">>>[1, 2, 3, 4, 5]\n",
    ">>> \n",
    ">>> print Counter(myList).values()\n",
    ">>>[3, 4, 4, 2, 1]"
   ]
  },
  {
   "cell_type": "code",
   "execution_count": 19,
   "metadata": {},
   "outputs": [
    {
     "name": "stdout",
     "output_type": "stream",
     "text": [
      "10\n",
      "2 3 4 5 6 8 7 6 5 18\n",
      "6\n",
      "6 55\n",
      "6 45\n",
      "6 55\n",
      "4 40\n",
      "18 60\n",
      "10 50\n",
      "\n",
      "200\n"
     ]
    }
   ],
   "source": [
    "#10\n",
    "#2 3 4 5 6 8 7 6 5 18\n",
    "#6\n",
    "#6 55\n",
    "#6 45\n",
    "#6 55\n",
    "#4 40\n",
    "#18 60\n",
    "#10 50\n",
    "\n",
    "nums_s = int(input())\n",
    "sizes = list(map(int, input().split()))\n",
    "nums_c = int(input())\n",
    "\n",
    "dsr_size = []\n",
    "profit = 0\n",
    "\n",
    "for i in range(nums_c):\n",
    "    dsr_size.append(list(map(int, input().split())))\n",
    "\n",
    "for i in range(nums_c):\n",
    "    if dsr_size [i][0] in sizes:\n",
    "        size = dsr_size [i][0]\n",
    "        sizes.remove(size)\n",
    "        profit += dsr_size [i][1]\n",
    "        \n",
    "print(profit)"
   ]
  },
  {
   "cell_type": "code",
   "execution_count": 20,
   "metadata": {},
   "outputs": [
    {
     "name": "stdout",
     "output_type": "stream",
     "text": [
      "10\n",
      "2 3 4 5 6 8 7 6 5 18\n",
      "6\n",
      "6 55\n",
      "6 45\n",
      "6 55\n",
      "4 40\n",
      "18 60\n",
      "10 50\n",
      "200\n"
     ]
    }
   ],
   "source": [
    "from collections import Counter\n",
    "n = int(input())\n",
    "s = Counter(map(int,input().split()))\n",
    "x = int(input())\n",
    "total = []\n",
    "for i in range(x):\n",
    "    a,b = map(int,input().split())\n",
    "    if s[a] > 0:\n",
    "        total.append(b)\n",
    "        s.subtract(Counter([a]))\n",
    "    else:\n",
    "        pass\n",
    "\n",
    "print (sum(total))"
   ]
  },
  {
   "cell_type": "markdown",
   "metadata": {},
   "source": []
  },
  {
   "cell_type": "markdown",
   "metadata": {},
   "source": [
    "\n",
    "# complex nums"
   ]
  },
  {
   "cell_type": "code",
   "execution_count": 40,
   "metadata": {},
   "outputs": [
    {
     "name": "stdout",
     "output_type": "stream",
     "text": [
      "1+1j\n",
      "1.4142135623730951\n",
      "0.7853981633974483\n"
     ]
    }
   ],
   "source": [
    "import cmath\n",
    "\n",
    "z = complex(input())\n",
    "\n",
    "print (abs(z))\n",
    "print (cmath.phase(z))\n",
    "\n",
    "#print (cmath.abs(z))\n",
    "#print (cmath.phase(z))\n"
   ]
  },
  {
   "cell_type": "code",
   "execution_count": 57,
   "metadata": {},
   "outputs": [
    {
     "name": "stdout",
     "output_type": "stream",
     "text": [
      "10\n",
      "30\n",
      "18°\n"
     ]
    }
   ],
   "source": [
    "import math\n",
    "\n",
    "a, b = int(input()), int(input())\n",
    "result=math.degrees(math.atan(a/b))\n",
    "print(f'{round(result)}\\N{DEGREE SIGN}')\n",
    "      "
   ]
  },
  {
   "cell_type": "code",
   "execution_count": null,
   "metadata": {},
   "outputs": [],
   "source": [
    "1\n",
    "121\n",
    "12321\n",
    "1234321\n",
    "123454321"
   ]
  },
  {
   "cell_type": "code",
   "execution_count": 76,
   "metadata": {},
   "outputs": [
    {
     "name": "stdout",
     "output_type": "stream",
     "text": [
      "5\n",
      "1\n",
      "1 2 1\n",
      "1 2 3 2 1\n",
      "1 2 3 4 3 2 1\n",
      "1 2 3 4 5 4 3 2 1\n"
     ]
    }
   ],
   "source": [
    "for i in range(1,int(input())+1):\n",
    "    \n",
    "    print (*[x+1 for x in range(0, i)]+[i-x for x in range(1, i)])"
   ]
  },
  {
   "cell_type": "code",
   "execution_count": 77,
   "metadata": {},
   "outputs": [
    {
     "name": "stdout",
     "output_type": "stream",
     "text": [
      "5\n",
      "1\n",
      "121\n",
      "12321\n",
      "1234321\n",
      "123454321\n"
     ]
    }
   ],
   "source": [
    "for i in range(1,int(input())+1):\n",
    "     print((10**i//9)**2)\n",
    "        "
   ]
  },
  {
   "cell_type": "code",
   "execution_count": 2,
   "metadata": {},
   "outputs": [
    {
     "name": "stdout",
     "output_type": "stream",
     "text": [
      "10\n",
      "161 182 161 154 176 170 167 171 170 174\n",
      "169.375\n"
     ]
    }
   ],
   "source": [
    "def average(array):\n",
    "    # your code goes here\n",
    "    array = set(array)\n",
    "    result = sum(array)/len(array)\n",
    "    return result\n",
    "\n",
    "if __name__ == '__main__':\n",
    "    n = int(input())\n",
    "    arr = list(map(int, input().split()))\n",
    "    result = average(arr)\n",
    "    print(result)"
   ]
  },
  {
   "cell_type": "code",
   "execution_count": null,
   "metadata": {},
   "outputs": [],
   "source": []
  },
  {
   "cell_type": "code",
   "execution_count": 9,
   "metadata": {},
   "outputs": [
    {
     "name": "stdout",
     "output_type": "stream",
     "text": [
      "5\n",
      "2 2 6 88 4\n",
      "6\n",
      "11 7 4 4 0 1\n",
      "0\n",
      "1\n",
      "2\n",
      "6\n",
      "7\n",
      "11\n",
      "88\n"
     ]
    }
   ],
   "source": [
    "num1= int(input())\n",
    "a = set(map(int, input().split()))\n",
    "num2= int(input())\n",
    "b = set(map(int, input().split()))\n",
    "set1 = a.difference(b)\n",
    "set2 = b.difference(a)\n",
    "list1 = sorted(list(set1)+list(set2))\n",
    "for i in list1:\n",
    "    print (i)\n",
    "    \n",
    "# 2 4 5 9 ------   2 4 11 12\n"
   ]
  },
  {
   "cell_type": "code",
   "execution_count": 12,
   "metadata": {},
   "outputs": [
    {
     "name": "stdout",
     "output_type": "stream",
     "text": [
      "7\n",
      "UK\n",
      "China\n",
      "USA\n",
      "France\n",
      "New Zealand\n",
      "UK\n",
      "France\n",
      "5\n"
     ]
    }
   ],
   "source": [
    "n = int (input())\n",
    "s = set()\n",
    "for i in range(n):\n",
    "    s.add(input())\n",
    "\n",
    "print (len(s))"
   ]
  },
  {
   "cell_type": "code",
   "execution_count": null,
   "metadata": {},
   "outputs": [],
   "source": [
    "7\n",
    "UK\n",
    "China\n",
    "USA\n",
    "France\n",
    "New Zealand\n",
    "UK\n",
    "France "
   ]
  },
  {
   "cell_type": "markdown",
   "metadata": {},
   "source": [
    "9\n",
    "-1 2 3 4 5 6 7 8 9\n",
    "-10\n",
    "-pop\n",
    "-remove 9\n",
    "-discard 9\n",
    "-discard 8\n",
    "-remove 7\n",
    "-pop \n",
    "-discard 6\n",
    "-remove 5\n",
    "-pop \n",
    "-discard 5"
   ]
  },
  {
   "cell_type": "code",
   "execution_count": 21,
   "metadata": {},
   "outputs": [
    {
     "name": "stdout",
     "output_type": "stream",
     "text": [
      "2\n",
      "1 8\n",
      "2\n",
      "pop\n",
      "pop\n",
      "0\n"
     ]
    }
   ],
   "source": [
    "n = int(input())\n",
    "s = set(map(int, input().split()))\n",
    "c = int(input())\n",
    "for i in range(c):\n",
    "    order = input().split()\n",
    "    try:\n",
    "        if len(order)==2:\n",
    "            eval(f\"s.{order[0]}({int(order[1])})\")\n",
    "        else:\n",
    "            eval(f\"s.{order[0]}()\")\n",
    "    except:\n",
    "        pass\n",
    "\n",
    "print(sum(s))\n"
   ]
  },
  {
   "cell_type": "code",
   "execution_count": null,
   "metadata": {},
   "outputs": [],
   "source": [
    "16\n",
    "1 2 3 4 5 6 7 8 9 10 11 12 13 14 24 52\n",
    "4\n",
    "intersection_update 10\n",
    "2 3 5 6 8 9 1 4 7 11\n",
    "update 2\n",
    "55 66\n",
    "symmetric_difference_update 5\n",
    "22 7 35 62 58\n",
    "difference_update 7\n",
    "11 22 35 55 58 62 66"
   ]
  },
  {
   "cell_type": "code",
   "execution_count": 31,
   "metadata": {},
   "outputs": [
    {
     "name": "stdout",
     "output_type": "stream",
     "text": [
      "3\n",
      "2 3 5\n",
      "1\n",
      "intersection_update 2\n",
      "1 2\n",
      "{2}\n",
      "2\n"
     ]
    }
   ],
   "source": [
    "n = int(input())\n",
    "set1 = set(map(int, input().split()))\n",
    "nums_sets = int(input())\n",
    "set2 = set()\n",
    "for i in range(nums_sets):\n",
    "    order = input().split()\n",
    "    set2 = set(map(int, input().split()))\n",
    "    eval(f\"set1.{order[0]}(set2)\")\n",
    "\n",
    "print(sum(set1))"
   ]
  },
  {
   "cell_type": "code",
   "execution_count": 65,
   "metadata": {},
   "outputs": [
    {
     "name": "stdout",
     "output_type": "stream",
     "text": [
      "h\n",
      "merhaba\n"
     ]
    }
   ],
   "source": [
    "s1='merhaba'\n",
    "print(s1[3])\n",
    "print(s1\n",
    "    )"
   ]
  },
  {
   "cell_type": "code",
   "execution_count": null,
   "metadata": {},
   "outputs": [],
   "source": [
    "AABCAAADA   3\n",
    "AB\n",
    "CA\n",
    "AD"
   ]
  },
  {
   "cell_type": "code",
   "execution_count": 95,
   "metadata": {},
   "outputs": [
    {
     "name": "stdout",
     "output_type": "stream",
     "text": [
      "YTRTYUJNBHHGVCCFFRDEWQAS\n",
      "4\n",
      "YTR\n",
      "YUJN\n",
      "BHG\n",
      "VCF\n",
      "FRDE\n",
      "WQAS\n"
     ]
    }
   ],
   "source": [
    "def merge_the_tools(string, k):\n",
    "    n = int(len(string)/k)\n",
    "    string = list(string)\n",
    "    x = 0\n",
    "    l = []\n",
    "    l2 = []\n",
    "    s = set()\n",
    "    for i in range(n):\n",
    "        l.append(string[x:k+x])\n",
    "        x += k\n",
    "    \n",
    "    for m in l:\n",
    "        l2.clear()\n",
    "        for z in range(k):\n",
    "            if m[z] not in l2 :\n",
    "                l2.append(m[z])\n",
    "        print(''.join(l2))        \n",
    "\n",
    "        \n",
    "if __name__ == '__main__':\n",
    "    string, k = input(), int(input())\n",
    "    merge_the_tools(string, k)"
   ]
  },
  {
   "cell_type": "code",
   "execution_count": 84,
   "metadata": {},
   "outputs": [
    {
     "name": "stdout",
     "output_type": "stream",
     "text": [
      "False\n",
      "B\n",
      "['B', 'A']\n"
     ]
    }
   ],
   "source": []
  },
  {
   "cell_type": "code",
   "execution_count": null,
   "metadata": {},
   "outputs": [],
   "source": []
  },
  {
   "cell_type": "code",
   "execution_count": null,
   "metadata": {},
   "outputs": [],
   "source": []
  },
  {
   "cell_type": "code",
   "execution_count": null,
   "metadata": {},
   "outputs": [],
   "source": []
  }
 ],
 "metadata": {
  "kernelspec": {
   "display_name": "Python 3",
   "language": "python",
   "name": "python3"
  },
  "language_info": {
   "codemirror_mode": {
    "name": "ipython",
    "version": 3
   },
   "file_extension": ".py",
   "mimetype": "text/x-python",
   "name": "python",
   "nbconvert_exporter": "python",
   "pygments_lexer": "ipython3",
   "version": "3.8.5"
  }
 },
 "nbformat": 4,
 "nbformat_minor": 4
}
